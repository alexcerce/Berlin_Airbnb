{
 "cells": [
  {
   "cell_type": "markdown",
   "metadata": {},
   "source": [
    "data was scrapped on june 13 2020"
   ]
  },
  {
   "cell_type": "code",
   "execution_count": 1,
   "metadata": {},
   "outputs": [],
   "source": [
    "#Import Libraries\n",
    "import time\n",
    "import numpy as np\n",
    "import pandas as pd\n",
    "import matplotlib.pyplot as plt\n",
    "import seaborn as sns\n",
    "import warnings\n",
    "warnings.simplefilter(action='ignore', category=FutureWarning)\n",
    "pd.options.mode.chained_assignment = None\n"
   ]
  },
  {
   "cell_type": "markdown",
   "metadata": {},
   "source": [
    "## Import and Cleaning"
   ]
  },
  {
   "cell_type": "code",
   "execution_count": 2,
   "metadata": {},
   "outputs": [
    {
     "name": "stderr",
     "output_type": "stream",
     "text": [
      "c:\\users\\alex cerce\\appdata\\local\\programs\\python\\python38\\lib\\site-packages\\IPython\\core\\interactiveshell.py:3146: DtypeWarning: Columns (43,61,62) have mixed types.Specify dtype option on import or set low_memory=False.\n",
      "  has_raised = await self.run_ast_nodes(code_ast.body, cell_name,\n"
     ]
    }
   ],
   "source": [
    "calendar = pd.read_csv('D:/Desktop/Datasets/AirbnbBerlin/calendar.csv.gz');\n",
    "listings1 = pd.read_csv('D:/Desktop/Datasets/AirbnbBerlin/listings.csv');\n",
    "listings2 = pd.read_csv('D:/Desktop/Datasets/AirbnbBerlin/listings.csv.gz');\n",
    "neighborhoods = pd.read_csv('D:/Desktop/Datasets/AirbnbBerlin/neighbourhoods.csv');\n",
    "reviews1 = pd.read_csv('D:/Desktop/Datasets/AirbnbBerlin/reviews.csv');\n",
    "reviews2 = pd.read_csv('D:/Desktop/Datasets/AirbnbBerlin/reviews.csv.gz');\n",
    "\n",
    "#Data Notes:\n",
    "\n",
    "#locations are not exact (0-450 feet from actual address) due to how airbnb displays data. Therefore a heatmap will work well\n",
    "#price is in dollars"
   ]
  },
  {
   "cell_type": "markdown",
   "metadata": {},
   "source": [
    "Start by fixing the data types for each table"
   ]
  },
  {
   "cell_type": "code",
   "execution_count": 3,
   "metadata": {},
   "outputs": [],
   "source": [
    "#Data cleaning functions used below\n",
    "\n",
    "#I would prefer integers to have no trailing zeros\n",
    "\n",
    "#This function will search a specifc dataframe column and return the number of non integer values and NAN values\n",
    "#I am doing this because I want to keep the trailing zeros if there are values in the array \n",
    "#I wont be able to take away trailing zeros if there are any nan values\n",
    "def find_noninteger(Dataframe,feature): #feature should be input as a string to be consistent with normal pandas format\n",
    "    value=Dataframe[feature];\n",
    "    float_count=0;na_count=0;index_nonint=[];index_na=[];\n",
    "    for i in range(len(value)):\n",
    "        if (value[i]).is_integer()==0 | pd.isna(value[i])==0:\n",
    "            float_count +=1\n",
    "            index_nonint.append(i)\n",
    "        if pd.isna(value[i])==1:\n",
    "            na_count +=1\n",
    "            #index_na.append(i)\n",
    "    if float_count==1 and na_count==1:\n",
    "        print('There is',float_count,'non integer value and',na_count,'NAN value')\n",
    "    elif float_count==1 and na_count!=1:\n",
    "        print('There is',float_count,'non integer value and',na_count,'NAN values')\n",
    "    elif float_count!=1 and na_count==1:\n",
    "        print('There are',float_count,'non integer values and',na_count,'NAN value')\n",
    "    elif float_count!=1 and na_count!=1:\n",
    "        print('There are',float_count,'non integer values and',na_count,'NAN values')\n",
    "    if index_nonint or index_na:\n",
    "        print('The non integer values are located at:',index_nonint)"
   ]
  },
  {
   "cell_type": "markdown",
   "metadata": {},
   "source": [
    "### Calendar Data Table\n",
    "    The calendar table holds availibility data for every listing. The availibility is given from\n",
    "    the date sampled up to one full year. Therefore, each listing will have 365 sample points."
   ]
  },
  {
   "cell_type": "code",
   "execution_count": 4,
   "metadata": {},
   "outputs": [
    {
     "data": {
      "text/html": [
       "<div>\n",
       "<style scoped>\n",
       "    .dataframe tbody tr th:only-of-type {\n",
       "        vertical-align: middle;\n",
       "    }\n",
       "\n",
       "    .dataframe tbody tr th {\n",
       "        vertical-align: top;\n",
       "    }\n",
       "\n",
       "    .dataframe thead th {\n",
       "        text-align: right;\n",
       "    }\n",
       "</style>\n",
       "<table border=\"1\" class=\"dataframe\">\n",
       "  <thead>\n",
       "    <tr style=\"text-align: right;\">\n",
       "      <th></th>\n",
       "      <th>listing_id</th>\n",
       "      <th>date</th>\n",
       "      <th>available</th>\n",
       "      <th>price</th>\n",
       "      <th>adjusted_price</th>\n",
       "      <th>minimum_nights</th>\n",
       "      <th>maximum_nights</th>\n",
       "    </tr>\n",
       "  </thead>\n",
       "  <tbody>\n",
       "    <tr>\n",
       "      <th>0</th>\n",
       "      <td>80843</td>\n",
       "      <td>2020-06-14</td>\n",
       "      <td>f</td>\n",
       "      <td>$39.00</td>\n",
       "      <td>$39.00</td>\n",
       "      <td>2.0</td>\n",
       "      <td>1125.0</td>\n",
       "    </tr>\n",
       "    <tr>\n",
       "      <th>1</th>\n",
       "      <td>186851</td>\n",
       "      <td>2020-06-15</td>\n",
       "      <td>f</td>\n",
       "      <td>$33.00</td>\n",
       "      <td>$33.00</td>\n",
       "      <td>62.0</td>\n",
       "      <td>300.0</td>\n",
       "    </tr>\n",
       "    <tr>\n",
       "      <th>2</th>\n",
       "      <td>186851</td>\n",
       "      <td>2020-06-16</td>\n",
       "      <td>f</td>\n",
       "      <td>$33.00</td>\n",
       "      <td>$33.00</td>\n",
       "      <td>62.0</td>\n",
       "      <td>300.0</td>\n",
       "    </tr>\n",
       "    <tr>\n",
       "      <th>3</th>\n",
       "      <td>186851</td>\n",
       "      <td>2020-06-17</td>\n",
       "      <td>f</td>\n",
       "      <td>$33.00</td>\n",
       "      <td>$33.00</td>\n",
       "      <td>62.0</td>\n",
       "      <td>300.0</td>\n",
       "    </tr>\n",
       "    <tr>\n",
       "      <th>4</th>\n",
       "      <td>186851</td>\n",
       "      <td>2020-06-18</td>\n",
       "      <td>f</td>\n",
       "      <td>$33.00</td>\n",
       "      <td>$33.00</td>\n",
       "      <td>62.0</td>\n",
       "      <td>300.0</td>\n",
       "    </tr>\n",
       "  </tbody>\n",
       "</table>\n",
       "</div>"
      ],
      "text/plain": [
       "   listing_id        date available   price adjusted_price  minimum_nights  \\\n",
       "0       80843  2020-06-14         f  $39.00         $39.00             2.0   \n",
       "1      186851  2020-06-15         f  $33.00         $33.00            62.0   \n",
       "2      186851  2020-06-16         f  $33.00         $33.00            62.0   \n",
       "3      186851  2020-06-17         f  $33.00         $33.00            62.0   \n",
       "4      186851  2020-06-18         f  $33.00         $33.00            62.0   \n",
       "\n",
       "   maximum_nights  \n",
       "0          1125.0  \n",
       "1           300.0  \n",
       "2           300.0  \n",
       "3           300.0  \n",
       "4           300.0  "
      ]
     },
     "execution_count": 4,
     "metadata": {},
     "output_type": "execute_result"
    }
   ],
   "source": [
    "calendar.head(n=5)"
   ]
  },
  {
   "cell_type": "code",
   "execution_count": 5,
   "metadata": {},
   "outputs": [
    {
     "name": "stdout",
     "output_type": "stream",
     "text": [
      "These features have missing values: ['minimum_nights', 'maximum_nights']\n",
      "'minimum_nights' has 141 missing values\n",
      "'maximum_nights' has 141 missing values\n",
      "After filling missing values with the correct values:\n",
      "'minimum_nights' has 0 missing values\n",
      "'maximum_nights' has 0 missing values\n"
     ]
    }
   ],
   "source": [
    "#Missing Values\n",
    "calendar_missingvalues_df=calendar[calendar.isna().any(axis=1)]    #dataframe containing only rows with any missing values\n",
    "calendar_missingvalues_columns=calendar.columns[calendar.isna().any()].tolist()  #list of columns with missing values\n",
    "print('These features have missing values:',calendar_missingvalues_columns)\n",
    "print('\\'minimum_nights\\' has',calendar['minimum_nights'].isna().sum(),'missing values')\n",
    "print('\\'maximum_nights\\' has',calendar['maximum_nights'].isna().sum(),'missing values')\n",
    "\n",
    "# 'minimumn_nights' and 'maximum_nights':\n",
    "\n",
    "#I have found that these 141 missing values are all from different listings, and they all\n",
    "#occur on the sample date. This is just a data collection error\n",
    "#I can pull the min and max nights values from other entries since they will be the same for the listing \n",
    "\n",
    "#pull the listing_id for the missing value, set missing values to be the same as the following row in full df\n",
    "#use the sub table to reduce cpu load\n",
    "for i in range(len(calendar_missingvalues_df)):\n",
    "    missing_listing_id=calendar_missingvalues_df.iloc[i]['listing_id']\n",
    "    missing_index=calendar_missingvalues_df.index[calendar_missingvalues_df['listing_id']==missing_listing_id].values[0]\n",
    "    missing_listing_df=calendar.loc[calendar['listing_id']==missing_listing_id]\n",
    "    \n",
    "    calendar.at[missing_index,'minimum_nights']=missing_listing_df.iloc[50]['minimum_nights']  #choose arbitrary future date to set these values to\n",
    "    calendar.at[missing_index,'maximum_nights']=missing_listing_df.iloc[50]['maximum_nights']\n",
    "    \n",
    "print('After filling missing values with the correct values:')\n",
    "print('\\'minimum_nights\\' has',calendar['minimum_nights'].isna().sum(),'missing values')\n",
    "print('\\'maximum_nights\\' has',calendar['maximum_nights'].isna().sum(),'missing values')\n"
   ]
  },
  {
   "cell_type": "code",
   "execution_count": null,
   "metadata": {},
   "outputs": [
    {
     "name": "stdout",
     "output_type": "stream",
     "text": [
      "minimum nights:\n",
      "There are 0 non integer values and 0 NAN values\n",
      "maximum nights:\n"
     ]
    }
   ],
   "source": [
    "#check columns for decimal values. This will indicated whether or not I should remove trailing zeros (by converting to INT)\n",
    "print('minimum nights:')\n",
    "find_noninteger(calendar,'minimum_nights')\n",
    "print('maximum nights:')\n",
    "find_noninteger(calendar,'maximum_nights')\n",
    "print('-'*50);print('Before:');print(calendar.dtypes)  #This indicates, that once I deal with missing values I can convert these cols to int\n",
    "\n",
    "\n",
    "#Convert Data Types\n",
    "#convert to datetime\n",
    "calendar['date']=calendar['date'].astype('datetime64')\n",
    "#convert to string dtype and capitalize T/F values\n",
    "calendar['available']=calendar['available'].str.replace('f','F').str.replace('t','T').astype('str')\n",
    "#remove dollar signs, remove comas, and convert to float\n",
    "calendar['price']=calendar['price'].str.replace('$','').str.replace(',','').astype('float64') \n",
    "calendar['adjusted_price']=calendar['adjusted_price'].str.replace('$','').str.replace(',','').astype('float64')\n",
    "#Convert to INT (no decimal place values and no more missing values)\n",
    "calendar['minimum_nights']=calendar['minimum_nights'].astype(int)\n",
    "calendar['maximum_nights']=calendar['maximum_nights'].astype(int)\n",
    "print('-'*50);print('After:')\n",
    "print(calendar.dtypes)\n"
   ]
  },
  {
   "cell_type": "code",
   "execution_count": null,
   "metadata": {},
   "outputs": [],
   "source": [
    "calendar.head()\n",
    "\n",
    "#number of observations in df\n",
    "#number of unique listings"
   ]
  },
  {
   "cell_type": "markdown",
   "metadata": {},
   "source": [
    "### Listings_1 Data Table"
   ]
  },
  {
   "cell_type": "code",
   "execution_count": null,
   "metadata": {},
   "outputs": [],
   "source": [
    "listings1.head()"
   ]
  },
  {
   "cell_type": "markdown",
   "metadata": {},
   "source": [
    "### Listings_2 Data Table"
   ]
  },
  {
   "cell_type": "code",
   "execution_count": null,
   "metadata": {},
   "outputs": [],
   "source": [
    "listings2.head()"
   ]
  },
  {
   "cell_type": "markdown",
   "metadata": {},
   "source": [
    "### Reviews_1 Data Table"
   ]
  },
  {
   "cell_type": "code",
   "execution_count": null,
   "metadata": {},
   "outputs": [],
   "source": [
    "reviews1.head()"
   ]
  },
  {
   "cell_type": "markdown",
   "metadata": {},
   "source": [
    "### Reviews_2 Data Table"
   ]
  },
  {
   "cell_type": "code",
   "execution_count": null,
   "metadata": {},
   "outputs": [],
   "source": [
    "reviews2.head()"
   ]
  },
  {
   "cell_type": "markdown",
   "metadata": {},
   "source": [
    "### Neighborhoods Data Table"
   ]
  },
  {
   "cell_type": "code",
   "execution_count": null,
   "metadata": {},
   "outputs": [],
   "source": [
    "neighborhoods.head()\n",
    "#Table which indicated the borough which each neighborhood belongs to\n",
    "\n",
    "neighborhoods.columns = ['borough', 'neighborhood']   #rename columns "
   ]
  }
 ],
 "metadata": {
  "kernelspec": {
   "display_name": "Python 3",
   "language": "python",
   "name": "python3"
  },
  "language_info": {
   "codemirror_mode": {
    "name": "ipython",
    "version": 3
   },
   "file_extension": ".py",
   "mimetype": "text/x-python",
   "name": "python",
   "nbconvert_exporter": "python",
   "pygments_lexer": "ipython3",
   "version": "3.8.6"
  }
 },
 "nbformat": 4,
 "nbformat_minor": 4
}
